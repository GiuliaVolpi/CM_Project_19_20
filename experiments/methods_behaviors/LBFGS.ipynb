{
 "cells": [
  {
   "cell_type": "code",
   "execution_count": 32,
   "metadata": {},
   "outputs": [
    {
     "name": "stdout",
     "output_type": "stream",
     "text": [
      "The autoreload extension is already loaded. To reload it, use:\n",
      "  %reload_ext autoreload\n"
     ]
    }
   ],
   "source": [
    "%load_ext autoreload\n",
    "%reload_ext autoreload\n",
    "%autoreload 2\n",
    "import sys\n",
    "from os import path\n",
    "sys.path.insert(0, \"../../ISANet/\")\n",
    "sys.path.insert(0, \"../../experiments/\")\n",
    "\n",
    "from utils import optimize_monk_f, print_result, print_ls_result, save_csv\n",
    "from isanet.optimizer import NCG, LBFGS\n",
    "import matplotlib.pyplot as plt\n",
    "import pandas as pd"
   ]
  },
  {
   "cell_type": "markdown",
   "metadata": {},
   "source": [
    "# Monk 2"
   ]
  },
  {
   "cell_type": "code",
   "execution_count": 33,
   "metadata": {},
   "outputs": [],
   "source": [
    "monk     =  \"2\"\n",
    "reg      =  1e-4\n",
    "seed     =  987\n",
    "results  =  []\n",
    "ng_eps   =  3e-5\n",
    "l_eps    =  3e-5\n",
    "max_iter =  1000\n",
    "verbose  =  0"
   ]
  },
  {
   "cell_type": "code",
   "execution_count": 34,
   "metadata": {
    "scrolled": true
   },
   "outputs": [
    {
     "name": "stdout",
     "output_type": "stream",
     "text": [
      "LBFGS - results\n",
      "╒═══════╤═════════════╤════════╤══════╤═══════════╤═════╤════════╤══════════╤═══════════════╤════════════╕\n",
      "│ f     │ Optimizer   │     c1 │   c2 │ restart   │   m │   Loss │     ‖gk‖ │   Conv. Iter. │   Time (s) │\n",
      "╞═══════╪═════════════╪════════╪══════╪═══════════╪═════╪════════╪══════════╪═══════════════╪════════════╡\n",
      "│ Monk2 │ L-BFGS      │ 0.0001 │  0.9 │ -         │   3 │ 0.0282 │ 2.55e-05 │           131 │       0.73 │\n",
      "╘═══════╧═════════════╧════════╧══════╧═══════════╧═════╧════════╧══════════╧═══════════════╧════════════╛\n",
      "╒════════════════╤════════════╤═══════════════╤═══════════════╕\n",
      "│   Ls Max Iter. │   Ls Iter. │   Ls Hit Rate │   Ls Time (s) │\n",
      "╞════════════════╪════════════╪═══════════════╪═══════════════╡\n",
      "│            100 │          1 │             1 │          0.13 │\n",
      "╘════════════════╧════════════╧═══════════════╧═══════════════╛\n"
     ]
    }
   ],
   "source": [
    "#############################\n",
    "#        LBFGS m = 3\n",
    "#############################\n",
    "c1          = 1e-4 \n",
    "c2          = .9 \n",
    "m1          = 3\n",
    "ln_maxiter  = 100\n",
    "#############################\n",
    "optimizer = LBFGS(m = m1, c1=c1, c2=c2, ln_maxiter = ln_maxiter, norm_g_eps = ng_eps, l_eps = l_eps)\n",
    "model_history, opt_history, time = optimize_monk_f(monk=monk, \n",
    "                                                   reg = reg, \n",
    "                                                   seed=seed, \n",
    "                                                   optimizer=optimizer, \n",
    "                                                   max_iter = max_iter, \n",
    "                                                   verbose = verbose)\n",
    "print(\"LBFGS - results\")\n",
    "print_result(f=\"Monk\"+monk, opt=\"L-BFGS\", c1=c1, c2=c2, r=\"-\", m=m1, history=model_history, opt_history=opt_history, time=time)\n",
    "print_ls_result(ls_max_iter=ln_maxiter, opt_history=opt_history)\n",
    "f_lbfgs_m_3 = model_history[\"loss_mse_reg\"]\n",
    "#############################\n",
    "# save result\n",
    "#############################\n",
    "df = save_csv(path=\"./results/LBFGS/m3-353_lbfgs_m_3.csv\", f=\"loss_mse_reg\", model_history=model_history, opt_history=opt_history)"
   ]
  },
  {
   "cell_type": "code",
   "execution_count": 35,
   "metadata": {
    "scrolled": true
   },
   "outputs": [
    {
     "name": "stdout",
     "output_type": "stream",
     "text": [
      "LBFGS - results\n",
      "╒═══════╤═════════════╤════════╤══════╤═══════════╤═════╤════════╤══════════╤═══════════════╤════════════╕\n",
      "│ f     │ Optimizer   │     c1 │   c2 │ restart   │   m │   Loss │     ‖gk‖ │   Conv. Iter. │   Time (s) │\n",
      "╞═══════╪═════════════╪════════╪══════╪═══════════╪═════╪════════╪══════════╪═══════════════╪════════════╡\n",
      "│ Monk2 │ L-BFGS      │ 0.0001 │  0.9 │ -         │  30 │ 0.0282 │ 2.56e-05 │            79 │       0.81 │\n",
      "╘═══════╧═════════════╧════════╧══════╧═══════════╧═════╧════════╧══════════╧═══════════════╧════════════╛\n",
      "╒════════════════╤════════════╤═══════════════╤═══════════════╕\n",
      "│   Ls Max Iter. │   Ls Iter. │   Ls Hit Rate │   Ls Time (s) │\n",
      "╞════════════════╪════════════╪═══════════════╪═══════════════╡\n",
      "│            100 │          0 │             1 │          0.15 │\n",
      "╘════════════════╧════════════╧═══════════════╧═══════════════╛\n"
     ]
    }
   ],
   "source": [
    "#############################\n",
    "#        LBFGS m = 30\n",
    "#############################\n",
    "c1          = 1e-4 \n",
    "c2          = .9 \n",
    "m2          = 30\n",
    "ln_maxiter  = 100\n",
    "#############################\n",
    "optimizer = LBFGS(m = m2, c1=c1, c2=c2, ln_maxiter = ln_maxiter, norm_g_eps = ng_eps, l_eps = l_eps)\n",
    "model_history, opt_history, time = optimize_monk_f(monk=monk, \n",
    "                                                   reg = reg, \n",
    "                                                   seed=seed, \n",
    "                                                   optimizer=optimizer, \n",
    "                                                   max_iter = max_iter, \n",
    "                                                   verbose = verbose)\n",
    "print(\"LBFGS - results\")\n",
    "print_result(f=\"Monk\"+monk, opt=\"L-BFGS\", c1=c1, c2=c2, r=\"-\", m=m2, history=model_history, opt_history=opt_history, time=time)\n",
    "print_ls_result(ls_max_iter=ln_maxiter, opt_history=opt_history)\n",
    "f_lbfgs_m_30 = model_history[\"loss_mse_reg\"]\n",
    "#############################\n",
    "# save result\n",
    "#############################\n",
    "df = save_csv(path=\"./results/LBFGS/m3-353_lbfgs_m_30.csv\", f=\"loss_mse_reg\", model_history=model_history, opt_history=opt_history)"
   ]
  },
  {
   "cell_type": "code",
   "execution_count": 36,
   "metadata": {},
   "outputs": [
    {
     "name": "stderr",
     "output_type": "stream",
     "text": [
      "The PostScript backend does not support transparency; partially transparent artists will be rendered opaque.\n",
      "The PostScript backend does not support transparency; partially transparent artists will be rendered opaque.\n"
     ]
    },
    {
     "data": {
      "image/png": "[encoded data removed]",
      "text/plain": [
       "<Figure size 432x288 with 1 Axes>"
      ]
     },
     "metadata": {
      "needs_background": "light"
     },
     "output_type": "display_data"
    }
   ],
   "source": [
    "pos_train = (0,0)\n",
    "figsize = (12, 4)\n",
    "\n",
    "plt.plot(f_lbfgs_m_3 - f_lbfgs_m_3[-1], linestyle='-')\n",
    "plt.plot(f_lbfgs_m_30 - f_lbfgs_m_30[-1], linestyle = '--')\n",
    "plt.title('Monk'+monk+' - seed={}'.format(seed))\n",
    "plt.ylabel(\"Loss\")\n",
    "plt.xlabel('Iteration')\n",
    "plt.grid()\n",
    "plt.yscale('log')\n",
    "plt.legend(['LBFGS m = {}'.format(m1),'LBFGS m = {}'.format(m2)], loc='lower left', fontsize='large')\n",
    "plt.savefig('./results/LBFGS/m{}-{}_lbfgs.eps'.format(monk, seed), format='eps')\n",
    "plt.show()"
   ]
  }
 ],
 "metadata": {
  "kernelspec": {
   "display_name": "Python 3",
   "language": "python",
   "name": "python3"
  },
  "language_info": {
   "codemirror_mode": {
    "name": "ipython",
    "version": 3
   },
   "file_extension": ".py",
   "mimetype": "text/x-python",
   "name": "python",
   "nbconvert_exporter": "python",
   "pygments_lexer": "ipython3",
   "version": "3.7.8"
  }
 },
 "nbformat": 4,
 "nbformat_minor": 4
}
