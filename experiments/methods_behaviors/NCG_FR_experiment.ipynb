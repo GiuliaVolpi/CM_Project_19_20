{
 "cells": [
  {
   "cell_type": "code",
   "execution_count": 1,
   "metadata": {
    "tags": []
   },
   "outputs": [],
   "source": [
    "%load_ext autoreload\n",
    "%reload_ext autoreload\n",
    "%autoreload 2\n",
    "import sys\n",
    "from os import path\n",
    "sys.path.insert(0, \"../../ISANet/\")\n",
    "sys.path.insert(0, \"../../experiments/\")\n",
    "\n",
    "from utils import optimize_monk_f, print_result, print_ls_result, save_csv\n",
    "from isanet.optimizer import NCG, LBFGS\n",
    "import matplotlib.pyplot as plt\n",
    "import pandas as pd"
   ]
  },
  {
   "cell_type": "markdown",
   "metadata": {},
   "source": [
    "# MONK 1"
   ]
  },
  {
   "cell_type": "markdown",
   "metadata": {},
   "source": [
    "Setting and global variable:"
   ]
  },
  {
   "cell_type": "code",
   "execution_count": 18,
   "metadata": {
    "tags": []
   },
   "outputs": [],
   "source": [
    "monk     =  \"1\"\n",
    "reg      =  1e-4\n",
    "seed     =  108 #108\n",
    "results  =  []\n",
    "ng_eps   =  1e-5\n",
    "l_eps    =  1e-5\n",
    "max_iter =  20000\n",
    "verbose  =  0"
   ]
  },
  {
   "cell_type": "markdown",
   "metadata": {},
   "source": [
    "### Experiments:"
   ]
  },
  {
   "cell_type": "code",
   "execution_count": 19,
   "metadata": {
    "scrolled": true
   },
   "outputs": [
    {
     "name": "stdout",
     "output_type": "stream",
     "text": [
      "NCG f1 - no restart - results\n",
      "╒═══════╤═════════════╤════════╤══════╤═══════════╤═════╤════════╤════════╤═══════════════╤════════════╕\n",
      "│ f     │ Optimizer   │     c1 │   c2 │ restart   │ m   │   Loss │   ‖gk‖ │   Conv. Iter. │   Time (s) │\n",
      "╞═══════╪═════════════╪════════╪══════╪═══════════╪═════╪════════╪════════╪═══════════════╪════════════╡\n",
      "│ Monk1 │ NCGFR       │ 0.0001 │  0.1 │           │ -   │   0.12 │ 0.0393 │         20000 │      89.06 │\n",
      "╘═══════╧═════════════╧════════╧══════╧═══════════╧═════╧════════╧════════╧═══════════════╧════════════╛\n",
      "╒════════════════╤════════════╤═══════════════╤═══════════════╕\n",
      "│   Ls Max Iter. │   Ls Iter. │   Ls Hit Rate │   Ls Time (s) │\n",
      "╞════════════════╪════════════╪═══════════════╪═══════════════╡\n",
      "│            100 │     108181 │             1 │            63 │\n",
      "╘════════════════╧════════════╧═══════════════╧═══════════════╛\n"
     ]
    }
   ],
   "source": [
    "#############################\n",
    "#     NCG f1 - no restart\n",
    "#############################\n",
    "beta_method = \"fr\" \n",
    "c1          = 1e-4 \n",
    "c2          = .1 \n",
    "restart     = None \n",
    "ln_maxiter  = 100\n",
    "#############################\n",
    "optimizer = NCG(beta_method=beta_method, c1=c1, c2=c2, restart=restart, \n",
    "                ln_maxiter = ln_maxiter, norm_g_eps = ng_eps, l_eps = l_eps)\n",
    "model_history, opt_history, time = optimize_monk_f(monk=monk, \n",
    "                                                   reg = reg, \n",
    "                                                   seed=seed, \n",
    "                                                   optimizer=optimizer, \n",
    "                                                   max_iter = max_iter, \n",
    "                                                   verbose = verbose)\n",
    "print(\"NCG fr - no restart - results\")\n",
    "print_result(f=\"Monk\"+monk, opt=(\"NCG \"+beta_method).upper(), c1=c1, c2=c2, r=restart, m=\"-\", history=model_history, opt_history=opt_history, time=time)\n",
    "print_ls_result(ls_max_iter=ln_maxiter, opt_history=opt_history)\n",
    "f_fr_r_15 = model_history[\"loss_mse_reg\"]\n",
    "#############################\n",
    "# save result\n",
    "#############################\n",
    "df = save_csv(path=\"./results/FR/m1-108_fr_nr.csv\", f=\"loss_mse_reg\", model_history=model_history, opt_history=opt_history)"
   ]
  },
  {
   "cell_type": "code",
   "execution_count": 23,
   "metadata": {
    "scrolled": true,
    "tags": [
     "outputPrepend"
    ]
   },
   "outputs": [
    {
     "name": "stdout",
     "output_type": "stream",
     "text": [
      "NCG f1 - restart 15 - results\n",
      "╒═══════╤═════════════╤════════╤══════╤═══════════╤═════╤════════╤══════════╤═══════════════╤════════════╕\n",
      "│ f     │ Optimizer   │     c1 │   c2 │   restart │ m   │   Loss │     ‖gk‖ │   Conv. Iter. │   Time (s) │\n",
      "╞═══════╪═════════════╪════════╪══════╪═══════════╪═════╪════════╪══════════╪═══════════════╪════════════╡\n",
      "│ Monk1 │ NCGFR       │ 0.0001 │  0.1 │        15 │ -   │ 0.0263 │ 9.17e-06 │           137 │       0.72 │\n",
      "╘═══════╧═════════════╧════════╧══════╧═══════════╧═════╧════════╧══════════╧═══════════════╧════════════╛\n",
      "╒════════════════╤════════════╤═══════════════╤═══════════════╕\n",
      "│   Ls Max Iter. │   Ls Iter. │   Ls Hit Rate │   Ls Time (s) │\n",
      "╞════════════════╪════════════╪═══════════════╪═══════════════╡\n",
      "│            100 │        728 │             1 │          0.55 │\n",
      "╘════════════════╧════════════╧═══════════════╧═══════════════╛\n"
     ]
    }
   ],
   "source": [
    "#############################\n",
    "#     NCG f1 - restart 15\n",
    "#############################\n",
    "beta_method = \"fr\" \n",
    "c1          = 1e-4 \n",
    "c2          = .1 \n",
    "restart     = 15 \n",
    "ln_maxiter  = 100\n",
    "#############################\n",
    "optimizer = NCG(beta_method=beta_method, c1=c1, c2=c2, restart=restart, \n",
    "                ln_maxiter = ln_maxiter, norm_g_eps = ng_eps, l_eps = l_eps)\n",
    "model_history, opt_history, time = optimize_monk_f(monk=monk, \n",
    "                                                   reg = reg, \n",
    "                                                   seed=seed, \n",
    "                                                   optimizer=optimizer, \n",
    "                                                   max_iter = max_iter, \n",
    "                                                   verbose = verbose)\n",
    "print(\"NCG fr - restart 15 - results\")\n",
    "print_result(f=\"Monk\"+monk, opt=(\"NCG \"+beta_method).upper(), c1=c1, c2=c2, r=restart, m=\"-\", history=model_history, opt_history=opt_history, time=time)\n",
    "print_ls_result(ls_max_iter=ln_maxiter, opt_history=opt_history)\n",
    "f_fr_r_15 = model_history[\"loss_mse_reg\"]\n",
    "df = save_csv(path=\"./results/FR/m1-108_fr_r15.csv\", f=\"loss_mse_reg\", model_history=model_history, opt_history=opt_history)"
   ]
  },
  {
   "cell_type": "code",
   "execution_count": 24,
   "metadata": {
    "scrolled": true,
    "tags": []
   },
   "outputs": [
    {
     "name": "stdout",
     "output_type": "stream",
     "text": [
      "NCG f1 - restart 3 - results\n",
      "╒═══════╤═════════════╤════════╤══════╤═══════════╤═════╤════════╤══════════╤═══════════════╤════════════╕\n",
      "│ f     │ Optimizer   │     c1 │   c2 │   restart │ m   │   Loss │     ‖gk‖ │   Conv. Iter. │   Time (s) │\n",
      "╞═══════╪═════════════╪════════╪══════╪═══════════╪═════╪════════╪══════════╪═══════════════╪════════════╡\n",
      "│ Monk1 │ NCGFR       │ 0.0001 │  0.1 │         3 │ -   │ 0.0263 │ 8.07e-06 │           165 │        0.9 │\n",
      "╘═══════╧═════════════╧════════╧══════╧═══════════╧═════╧════════╧══════════╧═══════════════╧════════════╛\n",
      "╒════════════════╤════════════╤═══════════════╤═══════════════╕\n",
      "│   Ls Max Iter. │   Ls Iter. │   Ls Hit Rate │   Ls Time (s) │\n",
      "╞════════════════╪════════════╪═══════════════╪═══════════════╡\n",
      "│            100 │        995 │             1 │          0.72 │\n",
      "╘════════════════╧════════════╧═══════════════╧═══════════════╛\n"
     ]
    }
   ],
   "source": [
    "#############################\n",
    "#     NCG f1 - restart 3\n",
    "#############################\n",
    "beta_method = \"fr\" \n",
    "c1          = 1e-4 \n",
    "c2          = .1 \n",
    "restart     = 3 \n",
    "ln_maxiter  = 100\n",
    "#############################\n",
    "optimizer = NCG(beta_method=beta_method, c1=c1, c2=c2, restart=restart, \n",
    "                ln_maxiter = ln_maxiter, norm_g_eps = ng_eps, l_eps = l_eps)\n",
    "model_history, opt_history, time = optimize_monk_f(monk=monk, \n",
    "                                                   reg = reg, \n",
    "                                                   seed=seed, \n",
    "                                                   optimizer=optimizer, \n",
    "                                                   max_iter = max_iter, \n",
    "                                                   verbose = verbose)\n",
    "print(\"NCG fr - restart 3 - results\")\n",
    "print_result(f=\"Monk\"+monk, opt=(\"NCG \"+beta_method).upper(), c1=c1, c2=c2, r=restart, m=\"-\", history=model_history, opt_history=opt_history, time=time)\n",
    "print_ls_result(ls_max_iter=ln_maxiter, opt_history=opt_history)\n",
    "f_fr_r_3 = model_history[\"loss_mse_reg\"]\n",
    "df = save_csv(path=\"./results/FR/m1-108_fr_r3.csv\", f=\"loss_mse_reg\", model_history=model_history, opt_history=opt_history)"
   ]
  },
  {
   "cell_type": "markdown",
   "metadata": {},
   "source": [
    "### Plots"
   ]
  },
  {
   "cell_type": "code",
   "execution_count": 25,
   "metadata": {
    "tags": []
   },
   "outputs": [
    {
     "name": "stderr",
     "output_type": "stream",
     "text": [
      "The PostScript backend does not support transparency; partially transparent artists will be rendered opaque.\n",
      "The PostScript backend does not support transparency; partially transparent artists will be rendered opaque.\n"
     ]
    },
    {
     "data": {
      "image/png": "[encoded data removed]",
      "text/plain": [
       "<Figure size 432x288 with 1 Axes>"
      ]
     },
     "metadata": {
      "needs_background": "light"
     },
     "output_type": "display_data"
    }
   ],
   "source": [
    "pos_train = (0,0)\n",
    "figsize = (12, 4)\n",
    "plt.plot(f_fr_no_r - f_fr_no_r[-1], linestyle='-')\n",
    "plt.plot(f_fr_r_15 - f_fr_r_15[-1], linestyle = '--')\n",
    "plt.plot(f_fr_r_3 - f_fr_r_3[-1], linestyle='-.')\n",
    "plt.title('Monk{} - seed={}'.format(monk, seed))\n",
    "plt.ylabel(\"Loss\")\n",
    "plt.xlabel('Iteration')\n",
    "plt.grid()\n",
    "plt.yscale('log')\n",
    "plt.legend(['NCG - FR - No Restart','NCG - FR - R={}'.format(15),'NCG - FR - R={}'.format(3)], loc='lower left', fontsize='large')\n",
    "plt.savefig('./results/FR/monk1_fr.eps', format='eps')\n",
    "plt.show()"
   ]
  },
  {
   "cell_type": "code",
   "execution_count": 27,
   "metadata": {
    "tags": []
   },
   "outputs": [
    {
     "name": "stderr",
     "output_type": "stream",
     "text": [
      "The PostScript backend does not support transparency; partially transparent artists will be rendered opaque.\n",
      "The PostScript backend does not support transparency; partially transparent artists will be rendered opaque.\n"
     ]
    },
    {
     "data": {
      "image/png": "[encoded data removed]",
      "text/plain": [
       "<Figure size 432x288 with 1 Axes>"
      ]
     },
     "metadata": {
      "needs_background": "light"
     },
     "output_type": "display_data"
    }
   ],
   "source": [
    "pos_train = (0,0)\n",
    "figsize = (12, 4)\n",
    "zoom = 175\n",
    "plt.plot(f_fr_no_r[:zoom] - f_fr_no_r[-1], linestyle='-')\n",
    "plt.plot(f_fr_r_15[:zoom] - f_fr_r_15[-1], linestyle = '--')\n",
    "plt.plot(f_fr_r_3[:zoom] - f_fr_r_3[-1], linestyle='-.')\n",
    "plt.title('Monk1 - seed={}'.format(seed))\n",
    "plt.ylabel(\"Loss\")\n",
    "plt.xlabel('Iteration')\n",
    "plt.grid()\n",
    "plt.yscale('log')\n",
    "plt.legend(['NCG - FR - No Restart','NCG - FR - R={}'.format(15),'NCG - FR - R={}'.format(3)], loc='lower left', fontsize='large')\n",
    "plt.savefig('./results/FR/monk1_fr_zoomed.eps', format='eps')\n",
    "plt.show()"
   ]
  }
 ],
 "metadata": {
  "kernelspec": {
   "display_name": "Python 3",
   "language": "python",
   "name": "python3"
  },
  "language_info": {
   "codemirror_mode": {
    "name": "ipython",
    "version": 3
   },
   "file_extension": ".py",
   "mimetype": "text/x-python",
   "name": "python",
   "nbconvert_exporter": "python",
   "pygments_lexer": "ipython3",
   "version": "3.7.8"
  }
 },
 "nbformat": 4,
 "nbformat_minor": 4
}
