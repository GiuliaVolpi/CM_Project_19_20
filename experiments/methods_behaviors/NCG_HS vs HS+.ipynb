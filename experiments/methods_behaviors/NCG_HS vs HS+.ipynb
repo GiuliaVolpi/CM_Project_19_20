{
 "cells": [
  {
   "cell_type": "code",
   "execution_count": 11,
   "metadata": {},
   "outputs": [
    {
     "name": "stdout",
     "output_type": "stream",
     "text": [
      "The autoreload extension is already loaded. To reload it, use:\n",
      "  %reload_ext autoreload\n"
     ]
    }
   ],
   "source": [
    "%load_ext autoreload\n",
    "%reload_ext autoreload\n",
    "%autoreload 2\n",
    "import sys\n",
    "from os import path\n",
    "sys.path.insert(0, \"../../ISANet/\")\n",
    "sys.path.insert(0, \"../../experiments/\")\n",
    "\n",
    "from utils import optimize_monk_f, print_result, print_ls_result, save_csv\n",
    "from isanet.optimizer import NCG, LBFGS\n",
    "import matplotlib.pyplot as plt\n",
    "import pandas as pd"
   ]
  },
  {
   "cell_type": "markdown",
   "metadata": {},
   "source": [
    "# Monk3 seed 353"
   ]
  },
  {
   "cell_type": "code",
   "execution_count": 12,
   "metadata": {},
   "outputs": [],
   "source": [
    "monk     =  \"3\"\n",
    "reg      =  1e-4\n",
    "seed     =  353\n",
    "results  =  []\n",
    "ng_eps   =  1e-7\n",
    "l_eps    =  1e-7\n",
    "max_iter =  1000\n",
    "verbose  =  0"
   ]
  },
  {
   "cell_type": "code",
   "execution_count": 13,
   "metadata": {
    "scrolled": true
   },
   "outputs": [
    {
     "name": "stdout",
     "output_type": "stream",
     "text": [
      "NCG HS - results\n",
      "╒═══════╤═════════════╤════════╤══════╤═══════════╤═════╤════════╤══════════╤═══════════════╤════════════╕\n",
      "│ f     │ Optimizer   │     c1 │   c2 │ restart   │ m   │   Loss │     ‖gk‖ │   Conv. Iter. │   Time (s) │\n",
      "╞═══════╪═════════════╪════════╪══════╪═══════════╪═════╪════════╪══════════╪═══════════════╪════════════╡\n",
      "│ Monk3 │ NCG HS      │ 0.0001 │  0.1 │           │ -   │ 0.0353 │ 9.31e-08 │           281 │       2.61 │\n",
      "╘═══════╧═════════════╧════════╧══════╧═══════════╧═════╧════════╧══════════╧═══════════════╧════════════╛\n",
      "╒════════════════╤════════════╤═══════════════╤═══════════════╕\n",
      "│   Ls Max Iter. │   Ls Iter. │   Ls Hit Rate │   Ls Time (s) │\n",
      "╞════════════════╪════════════╪═══════════════╪═══════════════╡\n",
      "│            100 │       1520 │             1 │          2.03 │\n",
      "╘════════════════╧════════════╧═══════════════╧═══════════════╛\n"
     ]
    }
   ],
   "source": [
    "#############################\n",
    "#     NCG hs\n",
    "#############################\n",
    "beta_method = \"hs\" \n",
    "c1          = 1e-4 \n",
    "c2          = .1 \n",
    "restart     = None \n",
    "ln_maxiter  = 100\n",
    "#############################\n",
    "optimizer = NCG(beta_method=beta_method, c1=c1, c2=c2, restart=restart, \n",
    "                ln_maxiter = ln_maxiter, norm_g_eps = ng_eps, l_eps = l_eps)\n",
    "model_history, opt_history, time = optimize_monk_f(monk=monk, \n",
    "                                                   reg = reg, \n",
    "                                                   seed=seed, \n",
    "                                                   optimizer=optimizer, \n",
    "                                                   max_iter = max_iter, \n",
    "                                                   verbose = verbose)\n",
    "print(\"NCG HS - results\")\n",
    "print_result(f=\"Monk\"+monk, opt=(\"NCG \"+beta_method).upper(), c1=c1, c2=c2, r=restart, m=\"-\", history=model_history, opt_history=opt_history, time=time)\n",
    "print_ls_result(ls_max_iter=ln_maxiter, opt_history=opt_history)\n",
    "f_hs = model_history[\"loss_mse_reg\"]\n",
    "#############################\n",
    "# save result\n",
    "#############################\n",
    "df = save_csv(path=\"./results/HS_HSP/m1-108_hs.csv\", f=\"loss_mse_reg\", model_history=model_history, opt_history=opt_history)"
   ]
  },
  {
   "cell_type": "code",
   "execution_count": 14,
   "metadata": {
    "scrolled": true
   },
   "outputs": [
    {
     "name": "stdout",
     "output_type": "stream",
     "text": [
      "NCG HS-P - results\n",
      "╒═══════╤═════════════╤════════╤══════╤═══════════╤═════╤════════╤══════════╤═══════════════╤════════════╕\n",
      "│ f     │ Optimizer   │     c1 │   c2 │ restart   │ m   │   Loss │     ‖gk‖ │   Conv. Iter. │   Time (s) │\n",
      "╞═══════╪═════════════╪════════╪══════╪═══════════╪═════╪════════╪══════════╪═══════════════╪════════════╡\n",
      "│ Monk3 │ NCG HS+     │ 0.0001 │  0.1 │           │ -   │ 0.0353 │ 9.07e-08 │           331 │       3.26 │\n",
      "╘═══════╧═════════════╧════════╧══════╧═══════════╧═════╧════════╧══════════╧═══════════════╧════════════╛\n",
      "╒════════════════╤════════════╤═══════════════╤═══════════════╕\n",
      "│   Ls Max Iter. │   Ls Iter. │   Ls Hit Rate │   Ls Time (s) │\n",
      "╞════════════════╪════════════╪═══════════════╪═══════════════╡\n",
      "│            100 │       1785 │             1 │          2.56 │\n",
      "╘════════════════╧════════════╧═══════════════╧═══════════════╛\n"
     ]
    }
   ],
   "source": [
    "#############################\n",
    "#     NCG hs+\n",
    "#############################\n",
    "beta_method = \"hs+\" \n",
    "c1          = 1e-4 \n",
    "c2          = .1 \n",
    "restart     = None \n",
    "ln_maxiter  = 100\n",
    "#############################\n",
    "optimizer = NCG(beta_method=beta_method, c1=c1, c2=c2, restart=restart, \n",
    "                ln_maxiter = ln_maxiter, norm_g_eps = ng_eps, l_eps = l_eps)\n",
    "model_history, opt_history, time = optimize_monk_f(monk=monk, \n",
    "                                                   reg = reg, \n",
    "                                                   seed=seed, \n",
    "                                                   optimizer=optimizer, \n",
    "                                                   max_iter = max_iter, \n",
    "                                                   verbose = verbose)\n",
    "print(\"NCG HS-P - results\")\n",
    "print_result(f=\"Monk\"+monk, opt=(\"NCG \"+beta_method).upper(), c1=c1, c2=c2, r=restart, m=\"-\", history=model_history, opt_history=opt_history, time=time)\n",
    "print_ls_result(ls_max_iter=ln_maxiter, opt_history=opt_history)\n",
    "f_hsp = model_history[\"loss_mse_reg\"]\n",
    "#############################\n",
    "# save result\n",
    "#############################\n",
    "df = save_csv(path=\"./results/HS_HSP/m1-108_hsp.csv\", f=\"loss_mse_reg\", model_history=model_history, opt_history=opt_history)"
   ]
  },
  {
   "cell_type": "code",
   "execution_count": 15,
   "metadata": {},
   "outputs": [
    {
     "name": "stderr",
     "output_type": "stream",
     "text": [
      "The PostScript backend does not support transparency; partially transparent artists will be rendered opaque.\n",
      "The PostScript backend does not support transparency; partially transparent artists will be rendered opaque.\n"
     ]
    },
    {
     "data": {
      "image/png": "[encoded data removed]",
      "text/plain": [
       "<Figure size 432x288 with 1 Axes>"
      ]
     },
     "metadata": {
      "needs_background": "light"
     },
     "output_type": "display_data"
    }
   ],
   "source": [
    "pos_train = (0,0)\n",
    "figsize = (12, 4)\n",
    "\n",
    "plt.plot(f_hs - f_hs[-1], linestyle='-')\n",
    "plt.plot(f_hsp - f_hsp[-1], linestyle = '--')\n",
    "plt.title('Monk'+monk+' - seed={}'.format(seed))\n",
    "plt.ylabel(\"Loss\")\n",
    "plt.xlabel('Iteration')\n",
    "plt.grid()\n",
    "plt.yscale('log')\n",
    "plt.legend(['NCG - PR','NCG - PR+'], loc='upper right', fontsize='large')   \n",
    "plt.savefig('./results/HS_HSP/m{}-{}_hs_hsp.eps'.format(monk, seed), format='eps')\n",
    "plt.show()"
   ]
  }
 ],
 "metadata": {
  "kernelspec": {
   "display_name": "Python 3",
   "language": "python",
   "name": "python3"
  },
  "language_info": {
   "codemirror_mode": {
    "name": "ipython",
    "version": 3
   },
   "file_extension": ".py",
   "mimetype": "text/x-python",
   "name": "python",
   "nbconvert_exporter": "python",
   "pygments_lexer": "ipython3",
   "version": "3.7.8"
  }
 },
 "nbformat": 4,
 "nbformat_minor": 4
}
