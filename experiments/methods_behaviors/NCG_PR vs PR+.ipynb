{
 "cells": [
  {
   "cell_type": "code",
   "execution_count": 52,
   "metadata": {},
   "outputs": [
    {
     "name": "stdout",
     "output_type": "stream",
     "text": [
      "The autoreload extension is already loaded. To reload it, use:\n",
      "  %reload_ext autoreload\n"
     ]
    }
   ],
   "source": [
    "%load_ext autoreload\n",
    "%reload_ext autoreload\n",
    "%autoreload 2\n",
    "import sys\n",
    "from os import path\n",
    "sys.path.insert(0, \"../../ISANet/\")\n",
    "sys.path.insert(0, \"../../experiments/\")\n",
    "\n",
    "from utils import optimize_monk_f, print_result, print_ls_result, save_csv\n",
    "from isanet.optimizer import NCG, LBFGS\n",
    "import matplotlib.pyplot as plt\n",
    "import pandas as pd"
   ]
  },
  {
   "cell_type": "markdown",
   "metadata": {},
   "source": [
    "# Monk 1 - seed 108"
   ]
  },
  {
   "cell_type": "markdown",
   "metadata": {},
   "source": [
    "Setting and global variable:"
   ]
  },
  {
   "cell_type": "code",
   "execution_count": 53,
   "metadata": {},
   "outputs": [],
   "source": [
    "monk     =  \"1\"\n",
    "reg      =  1e-4\n",
    "seed     =  108 #108\n",
    "results  =  []\n",
    "ng_eps   =  1e-5\n",
    "l_eps    =  1e-5\n",
    "max_iter =  1000\n",
    "verbose  =  0"
   ]
  },
  {
   "cell_type": "code",
   "execution_count": 54,
   "metadata": {},
   "outputs": [
    {
     "name": "stdout",
     "output_type": "stream",
     "text": [
      "NCG PR - results\n",
      "╒═══════╤═════════════╤════════╤══════╤═══════════╤═════╤════════╤══════════╤═══════════════╤════════════╕\n",
      "│ f     │ Optimizer   │     c1 │   c2 │ restart   │ m   │   Loss │     ‖gk‖ │   Conv. Iter. │   Time (s) │\n",
      "╞═══════╪═════════════╪════════╪══════╪═══════════╪═════╪════════╪══════════╪═══════════════╪════════════╡\n",
      "│ Monk1 │ NCG PR      │ 0.0001 │  0.1 │           │ -   │ 0.0263 │ 6.98e-06 │           126 │       1.06 │\n",
      "╘═══════╧═════════════╧════════╧══════╧═══════════╧═════╧════════╧══════════╧═══════════════╧════════════╛\n",
      "╒════════════════╤════════════╤═══════════════╤═══════════════╕\n",
      "│   Ls Max Iter. │   Ls Iter. │   Ls Hit Rate │   Ls Time (s) │\n",
      "╞════════════════╪════════════╪═══════════════╪═══════════════╡\n",
      "│            100 │        747 │             1 │          0.83 │\n",
      "╘════════════════╧════════════╧═══════════════╧═══════════════╛\n"
     ]
    }
   ],
   "source": [
    "#############################\n",
    "#     NCG pr\n",
    "#############################\n",
    "beta_method = \"pr\" \n",
    "c1          = 1e-4 \n",
    "c2          = .1 \n",
    "restart     = None \n",
    "ln_maxiter  = 100\n",
    "#############################\n",
    "optimizer = NCG(beta_method=beta_method, c1=c1, c2=c2, restart=restart, \n",
    "                ln_maxiter = ln_maxiter, norm_g_eps = ng_eps, l_eps = l_eps)\n",
    "model_history, opt_history, time = optimize_monk_f(monk=monk, \n",
    "                                                   reg = reg, \n",
    "                                                   seed=seed, \n",
    "                                                   optimizer=optimizer, \n",
    "                                                   max_iter = max_iter, \n",
    "                                                   verbose = verbose)\n",
    "print(\"NCG PR - results\")\n",
    "print_result(f=\"Monk\"+monk, opt=(\"NCG \"+beta_method).upper(), c1=c1, c2=c2, r=restart, m=\"-\", history=model_history, opt_history=opt_history, time=time)\n",
    "print_ls_result(ls_max_iter=ln_maxiter, opt_history=opt_history)\n",
    "f_pr = model_history[\"loss_mse_reg\"]\n",
    "#############################\n",
    "# save result\n",
    "#############################\n",
    "df = save_csv(path=\"./results/PR_PRP/m1-108_pr.csv\", f=\"loss_mse_reg\", model_history=model_history, opt_history=opt_history)"
   ]
  },
  {
   "cell_type": "code",
   "execution_count": 55,
   "metadata": {
    "scrolled": true
   },
   "outputs": [
    {
     "name": "stdout",
     "output_type": "stream",
     "text": [
      "NCG PR+ - results\n",
      "╒═══════╤═════════════╤════════╤══════╤═══════════╤═════╤════════╤══════════╤═══════════════╤════════════╕\n",
      "│ f     │ Optimizer   │     c1 │   c2 │ restart   │ m   │   Loss │     ‖gk‖ │   Conv. Iter. │   Time (s) │\n",
      "╞═══════╪═════════════╪════════╪══════╪═══════════╪═════╪════════╪══════════╪═══════════════╪════════════╡\n",
      "│ Monk1 │ NCG PR+     │ 0.0001 │  0.1 │           │ -   │ 0.0263 │ 9.19e-06 │           103 │       0.93 │\n",
      "╘═══════╧═════════════╧════════╧══════╧═══════════╧═════╧════════╧══════════╧═══════════════╧════════════╛\n",
      "╒════════════════╤════════════╤═══════════════╤═══════════════╕\n",
      "│   Ls Max Iter. │   Ls Iter. │   Ls Hit Rate │   Ls Time (s) │\n",
      "╞════════════════╪════════════╪═══════════════╪═══════════════╡\n",
      "│            100 │        595 │             1 │          0.67 │\n",
      "╘════════════════╧════════════╧═══════════════╧═══════════════╛\n"
     ]
    }
   ],
   "source": [
    "#############################\n",
    "#     NCG pr+\n",
    "#############################\n",
    "beta_method = \"pr+\" \n",
    "c1          = 1e-4 \n",
    "c2          = .1 \n",
    "restart     = None \n",
    "ln_maxiter  = 100\n",
    "#############################\n",
    "optimizer = NCG(beta_method=beta_method, c1=c1, c2=c2, restart=restart, \n",
    "                ln_maxiter = ln_maxiter, norm_g_eps = ng_eps, l_eps = l_eps)\n",
    "model_history, opt_history, time = optimize_monk_f(monk=monk, \n",
    "                                                   reg = reg, \n",
    "                                                   seed=seed, \n",
    "                                                   optimizer=optimizer, \n",
    "                                                   max_iter = max_iter, \n",
    "                                                   verbose = verbose)\n",
    "print(\"NCG PR+ - results\")\n",
    "print_result(f=\"Monk\"+monk, opt=(\"NCG \"+beta_method).upper(), c1=c1, c2=c2, r=restart, m=\"-\", history=model_history, opt_history=opt_history, time=time)\n",
    "print_ls_result(ls_max_iter=ln_maxiter, opt_history=opt_history)\n",
    "f_pr_plus = model_history[\"loss_mse_reg\"]\n",
    "#############################\n",
    "# save result\n",
    "#############################\n",
    "df = save_csv(path=\"./results/PR_PRP/m1-108_prp.csv\", f=\"loss_mse_reg\", model_history=model_history, opt_history=opt_history)"
   ]
  },
  {
   "cell_type": "code",
   "execution_count": 56,
   "metadata": {},
   "outputs": [
    {
     "name": "stderr",
     "output_type": "stream",
     "text": [
      "The PostScript backend does not support transparency; partially transparent artists will be rendered opaque.\n",
      "The PostScript backend does not support transparency; partially transparent artists will be rendered opaque.\n"
     ]
    },
    {
     "data": {
      "image/png": "[encoded data removed]",
      "text/plain": [
       "<Figure size 432x288 with 1 Axes>"
      ]
     },
     "metadata": {
      "needs_background": "light"
     },
     "output_type": "display_data"
    }
   ],
   "source": [
    "pos_train = (0,0)\n",
    "figsize = (12, 4)\n",
    "\n",
    "plt.plot(f_pr - f_pr[-1], linestyle='-')\n",
    "plt.plot(f_pr_plus - f_pr_plus[-1], linestyle = '--')\n",
    "plt.title('Monk'+monk+' - seed={}'.format(seed))\n",
    "plt.ylabel(\"Loss\")\n",
    "plt.xlabel('Iteration')\n",
    "plt.grid()\n",
    "plt.yscale('log')\n",
    "plt.legend(['NCG - PR','NCG - PR+'], loc='upper right', fontsize='large')   \n",
    "plt.savefig('./results/PR_PRP/m1-108_pr_prp.eps', format='eps')\n",
    "plt.show()"
   ]
  },
  {
   "cell_type": "markdown",
   "metadata": {},
   "source": [
    "# Monk 1 - seed 206"
   ]
  },
  {
   "cell_type": "code",
   "execution_count": 57,
   "metadata": {},
   "outputs": [],
   "source": [
    "monk     =  \"1\"\n",
    "reg      =  1e-4\n",
    "seed     =  206\n",
    "results  =  []\n",
    "ng_eps   =  1e-5\n",
    "l_eps    =  1e-5\n",
    "max_iter =  1000\n",
    "verbose  =  0"
   ]
  },
  {
   "cell_type": "code",
   "execution_count": 58,
   "metadata": {
    "scrolled": true
   },
   "outputs": [
    {
     "name": "stdout",
     "output_type": "stream",
     "text": [
      "NCG PR - results\n",
      "╒═══════╤═════════════╤════════╤══════╤═══════════╤═════╤════════╤═════════╤═══════════════╤════════════╕\n",
      "│ f     │ Optimizer   │     c1 │   c2 │ restart   │ m   │   Loss │    ‖gk‖ │   Conv. Iter. │   Time (s) │\n",
      "╞═══════╪═════════════╪════════╪══════╪═══════════╪═════╪════════╪═════════╪═══════════════╪════════════╡\n",
      "│ Monk1 │ NCG PR      │ 0.0001 │  0.3 │           │ -   │ 0.0265 │ 5.4e-06 │           305 │       3.29 │\n",
      "╘═══════╧═════════════╧════════╧══════╧═══════════╧═════╧════════╧═════════╧═══════════════╧════════════╛\n",
      "╒════════════════╤════════════╤═══════════════╤═══════════════╕\n",
      "│   Ls Max Iter. │   Ls Iter. │   Ls Hit Rate │   Ls Time (s) │\n",
      "╞════════════════╪════════════╪═══════════════╪═══════════════╡\n",
      "│            100 │       1591 │             1 │          2.52 │\n",
      "╘════════════════╧════════════╧═══════════════╧═══════════════╛\n"
     ]
    }
   ],
   "source": [
    "#############################\n",
    "#     NCG pr\n",
    "#############################\n",
    "beta_method = \"pr\" \n",
    "c1          = 1e-4 \n",
    "c2          = .3 \n",
    "restart     = None \n",
    "ln_maxiter  = 100\n",
    "#############################\n",
    "optimizer = NCG(beta_method=beta_method, c1=c1, c2=c2, restart=restart, \n",
    "                ln_maxiter = ln_maxiter, norm_g_eps = ng_eps, l_eps = l_eps)\n",
    "model_history, opt_history, time = optimize_monk_f(monk=monk, \n",
    "                                                   reg = reg, \n",
    "                                                   seed=seed, \n",
    "                                                   optimizer=optimizer, \n",
    "                                                   max_iter = max_iter, \n",
    "                                                   verbose = verbose)\n",
    "print(\"NCG PR - results\")\n",
    "print_result(f=\"Monk\"+monk, opt=(\"NCG \"+beta_method).upper(), c1=c1, c2=c2, r=restart, m=\"-\", history=model_history, opt_history=opt_history, time=time)\n",
    "print_ls_result(ls_max_iter=ln_maxiter, opt_history=opt_history)\n",
    "f_pr = model_history[\"loss_mse_reg\"]\n",
    "#############################\n",
    "# save result\n",
    "#############################\n",
    "df = save_csv(path=\"./results/PR_PRP/m1-206_pr.csv\", f=\"loss_mse_reg\", model_history=model_history, opt_history=opt_history)"
   ]
  },
  {
   "cell_type": "code",
   "execution_count": 59,
   "metadata": {
    "scrolled": true
   },
   "outputs": [
    {
     "name": "stdout",
     "output_type": "stream",
     "text": [
      "NCG PR+ - results\n",
      "╒═══════╤═════════════╤════════╤══════╤═══════════╤═════╤════════╤══════════╤═══════════════╤════════════╕\n",
      "│ f     │ Optimizer   │     c1 │   c2 │ restart   │ m   │   Loss │     ‖gk‖ │   Conv. Iter. │   Time (s) │\n",
      "╞═══════╪═════════════╪════════╪══════╪═══════════╪═════╪════════╪══════════╪═══════════════╪════════════╡\n",
      "│ Monk1 │ NCG PR+     │ 0.0001 │  0.3 │           │ -   │ 0.0265 │ 8.41e-06 │           191 │       0.98 │\n",
      "╘═══════╧═════════════╧════════╧══════╧═══════════╧═════╧════════╧══════════╧═══════════════╧════════════╛\n",
      "╒════════════════╤════════════╤═══════════════╤═══════════════╕\n",
      "│   Ls Max Iter. │   Ls Iter. │   Ls Hit Rate │   Ls Time (s) │\n",
      "╞════════════════╪════════════╪═══════════════╪═══════════════╡\n",
      "│            100 │        950 │             1 │          0.74 │\n",
      "╘════════════════╧════════════╧═══════════════╧═══════════════╛\n"
     ]
    }
   ],
   "source": [
    "#############################\n",
    "#     NCG pr+\n",
    "#############################\n",
    "beta_method = \"pr+\" \n",
    "c1          = 1e-4 \n",
    "c2          = .3 \n",
    "restart     = None \n",
    "ln_maxiter  = 100\n",
    "#############################\n",
    "optimizer = NCG(beta_method=beta_method, c1=c1, c2=c2, restart=restart, \n",
    "                ln_maxiter = ln_maxiter, norm_g_eps = ng_eps, l_eps = l_eps)\n",
    "model_history, opt_history, time = optimize_monk_f(monk=monk, \n",
    "                                                   reg = reg, \n",
    "                                                   seed=seed, \n",
    "                                                   optimizer=optimizer, \n",
    "                                                   max_iter = max_iter, \n",
    "                                                   verbose = verbose)\n",
    "print(\"NCG PR+ - results\")\n",
    "print_result(f=\"Monk\"+monk, opt=(\"NCG \"+beta_method).upper(), c1=c1, c2=c2, r=restart, m=\"-\", history=model_history, opt_history=opt_history, time=time)\n",
    "print_ls_result(ls_max_iter=ln_maxiter, opt_history=opt_history)\n",
    "f_pr = model_history[\"loss_mse_reg\"]\n",
    "#############################\n",
    "# save result\n",
    "#############################\n",
    "df = save_csv(path=\"./results/PR_PRP/m1-206_prp.csv\", f=\"loss_mse_reg\", model_history=model_history, opt_history=opt_history)"
   ]
  },
  {
   "cell_type": "code",
   "execution_count": 60,
   "metadata": {},
   "outputs": [
    {
     "name": "stderr",
     "output_type": "stream",
     "text": [
      "The PostScript backend does not support transparency; partially transparent artists will be rendered opaque.\n",
      "The PostScript backend does not support transparency; partially transparent artists will be rendered opaque.\n"
     ]
    },
    {
     "data": {
      "image/png": "[encoded data removed]",
      "text/plain": [
       "<Figure size 432x288 with 1 Axes>"
      ]
     },
     "metadata": {
      "needs_background": "light"
     },
     "output_type": "display_data"
    }
   ],
   "source": [
    "pos_train = (0,0)\n",
    "figsize = (12, 4)\n",
    "\n",
    "plt.plot(f_pr - f_pr[-1], linestyle='-')\n",
    "plt.plot(f_pr_plus - f_pr_plus[-1], linestyle = '--')\n",
    "plt.title('Monk'+monk+' - seed={}'.format(seed))\n",
    "plt.ylabel(\"Loss\")\n",
    "plt.xlabel('Iteration')\n",
    "plt.grid()\n",
    "plt.yscale('log')\n",
    "plt.legend(['NCG - PR','NCG - PR+'], loc='upper right', fontsize='large')   \n",
    "plt.savefig('./results/PR_PRP/m{}-{}_pr_prp.eps'.format(monk, seed), format='eps')\n",
    "plt.show()"
   ]
  }
 ],
 "metadata": {
  "kernelspec": {
   "display_name": "Python 3",
   "language": "python",
   "name": "python3"
  },
  "language_info": {
   "codemirror_mode": {
    "name": "ipython",
    "version": 3
   },
   "file_extension": ".py",
   "mimetype": "text/x-python",
   "name": "python",
   "nbconvert_exporter": "python",
   "pygments_lexer": "ipython3",
   "version": "3.7.8"
  }
 },
 "nbformat": 4,
 "nbformat_minor": 4
}
