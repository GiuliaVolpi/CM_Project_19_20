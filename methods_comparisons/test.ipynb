{
 "cells": [
  {
   "cell_type": "code",
   "execution_count": 24,
   "metadata": {},
   "outputs": [],
   "source": [
    "import sys\n",
    "from os import path\n",
    "sys.path.insert(0, \"../ISANet/\")\n",
    "sys.path.insert(0, \"./\")\n",
    "import numpy as np\n",
    "import time\n",
    "import copy\n",
    "import isanet.metrics as metrics\n",
    "from isanet.optimizer.utils import make_vector\n",
    "\n",
    "def restore_w_to_model(l, v):\n",
    "    start = 0\n",
    "    weights = [0]*len(l)\n",
    "    for i in range(len(l)):\n",
    "        n_rows = l[i].shape[0]\n",
    "        n_cols = l[i].shape[1]\n",
    "        end = n_rows*n_cols\n",
    "        weights[i] = v[start:start + end].reshape(n_rows,n_cols)\n",
    "        start = start + end  \n",
    "    return weights"
   ]
  },
  {
   "cell_type": "code",
   "execution_count": 26,
   "metadata": {},
   "outputs": [],
   "source": [
    "l = [np.random.rand(3,2), np.random.rand(3,2), np.random.rand(3,2)]"
   ]
  },
  {
   "cell_type": "code",
   "execution_count": 27,
   "metadata": {},
   "outputs": [
    {
     "data": {
      "text/plain": [
       "[array([[0.1960655 , 0.1063666 ],\n",
       "        [0.83390752, 0.46780493],\n",
       "        [0.35189232, 0.81867063]]), array([[0.41083092, 0.71472971],\n",
       "        [0.82720354, 0.23155127],\n",
       "        [0.58893364, 0.04951697]]), array([[0.88291116, 0.65996558],\n",
       "        [0.19664419, 0.99938106],\n",
       "        [0.99493042, 0.5064055 ]])]"
      ]
     },
     "execution_count": 27,
     "metadata": {},
     "output_type": "execute_result"
    }
   ],
   "source": [
    "l"
   ]
  },
  {
   "cell_type": "code",
   "execution_count": 28,
   "metadata": {},
   "outputs": [
    {
     "data": {
      "text/plain": [
       "array([[0.1960655 ],\n",
       "       [0.1063666 ],\n",
       "       [0.83390752],\n",
       "       [0.46780493],\n",
       "       [0.35189232],\n",
       "       [0.81867063],\n",
       "       [0.41083092],\n",
       "       [0.71472971],\n",
       "       [0.82720354],\n",
       "       [0.23155127],\n",
       "       [0.58893364],\n",
       "       [0.04951697],\n",
       "       [0.88291116],\n",
       "       [0.65996558],\n",
       "       [0.19664419],\n",
       "       [0.99938106],\n",
       "       [0.99493042],\n",
       "       [0.5064055 ]])"
      ]
     },
     "execution_count": 28,
     "metadata": {},
     "output_type": "execute_result"
    }
   ],
   "source": [
    "make_vector(l)"
   ]
  },
  {
   "cell_type": "code",
   "execution_count": 29,
   "metadata": {},
   "outputs": [
    {
     "data": {
      "text/plain": [
       "[array([[0.1960655 , 0.1063666 ],\n",
       "        [0.83390752, 0.46780493],\n",
       "        [0.35189232, 0.81867063]]), array([[0.41083092, 0.71472971],\n",
       "        [0.82720354, 0.23155127],\n",
       "        [0.58893364, 0.04951697]]), array([[0.88291116, 0.65996558],\n",
       "        [0.19664419, 0.99938106],\n",
       "        [0.99493042, 0.5064055 ]])]"
      ]
     },
     "execution_count": 29,
     "metadata": {},
     "output_type": "execute_result"
    }
   ],
   "source": [
    "v = make_vector(l)\n",
    "restore_w_to_model(l,v)"
   ]
  }
 ],
 "metadata": {
  "kernelspec": {
   "display_name": "Python 3",
   "language": "python",
   "name": "python3"
  },
  "language_info": {
   "codemirror_mode": {
    "name": "ipython",
    "version": 3
   },
   "file_extension": ".py",
   "mimetype": "text/x-python",
   "name": "python",
   "nbconvert_exporter": "python",
   "pygments_lexer": "ipython3",
   "version": "3.7.8"
  }
 },
 "nbformat": 4,
 "nbformat_minor": 4
}
